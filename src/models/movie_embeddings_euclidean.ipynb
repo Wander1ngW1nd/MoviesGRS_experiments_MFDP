{
 "cells": [
  {
   "cell_type": "code",
   "execution_count": null,
   "metadata": {
    "ExecuteTime": {
     "end_time": "2023-06-12T19:38:03.758044898Z",
     "start_time": "2023-06-12T19:38:02.045960824Z"
    }
   },
   "outputs": [],
   "source": [
    "import clearml\n",
    "import numpy as np\n",
    "import pandas as pd\n",
    "from scipy.spatial.distance import cdist\n",
    "from sentence_transformers import SentenceTransformer\n",
    "\n",
    "from utils.evaluation import evaluate_recommendations, generate_recommendations\n",
    "from utils.recommender_data_preprocessor import get_movies, get_recommender_data\n",
    "\n",
    "np.random.seed(42)"
   ]
  },
  {
   "cell_type": "code",
   "execution_count": null,
   "metadata": {
    "ExecuteTime": {
     "end_time": "2023-06-01T21:58:59.174165650Z",
     "start_time": "2023-06-01T21:58:50.745912491Z"
    }
   },
   "outputs": [],
   "source": [
    "task = clearml.Task.init(\n",
    "    project_name=\"MoviesGRS_MFDP\",\n",
    "    task_name=\"MovieEmbeddingsRecommender\",\n",
    "    tags=[\"MovieEmbeddingsRecommender\", \"paraphrase-distilroberta-base-v1\"],\n",
    ")"
   ]
  },
  {
   "cell_type": "code",
   "execution_count": 3,
   "metadata": {
    "ExecuteTime": {
     "end_time": "2023-06-01T21:58:59.179214679Z",
     "start_time": "2023-06-01T21:58:59.175921020Z"
    }
   },
   "outputs": [],
   "source": [
    "GROUPS_LIST = [f\"group{i}\" for i in range(1, 8)]"
   ]
  },
  {
   "cell_type": "code",
   "execution_count": 4,
   "metadata": {
    "ExecuteTime": {
     "end_time": "2023-06-01T21:59:13.799918395Z",
     "start_time": "2023-06-01T21:58:59.180321463Z"
    }
   },
   "outputs": [],
   "source": [
    "recommender_data: pd.DataFrame = get_recommender_data(GROUPS_LIST)"
   ]
  },
  {
   "cell_type": "code",
   "execution_count": null,
   "metadata": {
    "ExecuteTime": {
     "end_time": "2023-06-01T21:59:27.058048655Z",
     "start_time": "2023-06-01T21:59:13.802039815Z"
    }
   },
   "outputs": [],
   "source": [
    "transformer = SentenceTransformer(\"paraphrase-distilroberta-base-v1\")\n",
    "movies_data: pd.DataFrame = get_movies()\n",
    "movies_data[\"embedding\"] = movies_data[\"plot\"].apply(transformer.encode)"
   ]
  },
  {
   "cell_type": "code",
   "execution_count": null,
   "metadata": {
    "ExecuteTime": {
     "end_time": "2023-06-01T22:00:32.526577082Z",
     "start_time": "2023-06-01T21:59:27.035507668Z"
    }
   },
   "outputs": [],
   "source": [
    "users_data: pd.DataFrame = (\n",
    "    pd.read_parquet(\"../data/ratings_train.pq\")\n",
    "    .groupby(\"userId\")\n",
    "    .agg({col: list for col in [\"movieId\", \"rating\"]})\n",
    "    .reset_index()\n",
    ")\n",
    "users_data[\"movieId\"] = users_data[\"movieId\"].apply(np.array)\n",
    "users_data[\"rating\"] = users_data[\"rating\"].apply(np.array)\n",
    "users_data[\"embedding\"] = users_data.apply(\n",
    "    lambda row: np.mean(\n",
    "        movies_data[movies_data.movieId.isin(row[\"movieId\"])].embedding * row[\"rating\"],\n",
    "        axis=0,\n",
    "    ),\n",
    "    axis=1,\n",
    ")\n",
    "users_data = users_data[[\"userId\", \"embedding\"]]"
   ]
  },
  {
   "attachments": {},
   "cell_type": "markdown",
   "metadata": {},
   "source": [
    "## Average user"
   ]
  },
  {
   "cell_type": "code",
   "execution_count": 7,
   "metadata": {
    "ExecuteTime": {
     "end_time": "2023-06-01T22:00:32.527026270Z",
     "start_time": "2023-06-01T22:00:32.519404064Z"
    }
   },
   "outputs": [],
   "source": [
    "def recommend_avg_user(row: pd.Series) -> np.array:\n",
    "    unwatched_films: pd.DataFrame = movies_data[movies_data.movieId.isin(row[\"unwatched\"])].reset_index(drop=True)\n",
    "    unwatched_films_embeddings: np.array = np.stack(unwatched_films.embedding.values)\n",
    "\n",
    "    avg_user_embedding: np.array = np.mean(users_data[users_data.userId.isin(row[\"userId\"])].embedding, axis=0).reshape(\n",
    "        1, -1\n",
    "    )\n",
    "\n",
    "    dist_matrix: np.array = cdist(avg_user_embedding, unwatched_films_embeddings).reshape(-1)\n",
    "    closest_films: np.array = dist_matrix.argsort()[:10]\n",
    "\n",
    "    top_movies: np.array = unwatched_films.loc[closest_films, \"movieId\"].values\n",
    "\n",
    "    return top_movies"
   ]
  },
  {
   "cell_type": "code",
   "execution_count": null,
   "metadata": {
    "ExecuteTime": {
     "start_time": "2023-06-01T22:00:32.519618721Z"
    },
    "is_executing": true
   },
   "outputs": [],
   "source": [
    "recommends_avg_user: pd.DataFrame = generate_recommendations(recommend_avg_user, recommender_data, GROUPS_LIST)"
   ]
  },
  {
   "cell_type": "code",
   "execution_count": 9,
   "metadata": {
    "is_executing": true
   },
   "outputs": [
    {
     "data": {
      "text/html": [
       "<div>\n",
       "<style scoped>\n",
       "    .dataframe tbody tr th:only-of-type {\n",
       "        vertical-align: middle;\n",
       "    }\n",
       "\n",
       "    .dataframe tbody tr th {\n",
       "        vertical-align: top;\n",
       "    }\n",
       "\n",
       "    .dataframe thead th {\n",
       "        text-align: right;\n",
       "    }\n",
       "</style>\n",
       "<table border=\"1\" class=\"dataframe\">\n",
       "  <thead>\n",
       "    <tr style=\"text-align: right;\">\n",
       "      <th></th>\n",
       "      <th>MAP</th>\n",
       "      <th>NDCG</th>\n",
       "    </tr>\n",
       "  </thead>\n",
       "  <tbody>\n",
       "    <tr>\n",
       "      <th>group1</th>\n",
       "      <td>0.018488</td>\n",
       "      <td>0.155676</td>\n",
       "    </tr>\n",
       "    <tr>\n",
       "      <th>group2</th>\n",
       "      <td>0.014617</td>\n",
       "      <td>0.130071</td>\n",
       "    </tr>\n",
       "    <tr>\n",
       "      <th>group3</th>\n",
       "      <td>0.013024</td>\n",
       "      <td>0.117984</td>\n",
       "    </tr>\n",
       "    <tr>\n",
       "      <th>group4</th>\n",
       "      <td>0.011828</td>\n",
       "      <td>0.110164</td>\n",
       "    </tr>\n",
       "    <tr>\n",
       "      <th>group5</th>\n",
       "      <td>0.012067</td>\n",
       "      <td>0.111144</td>\n",
       "    </tr>\n",
       "    <tr>\n",
       "      <th>group6</th>\n",
       "      <td>0.011507</td>\n",
       "      <td>0.106650</td>\n",
       "    </tr>\n",
       "    <tr>\n",
       "      <th>group7</th>\n",
       "      <td>0.010789</td>\n",
       "      <td>0.100937</td>\n",
       "    </tr>\n",
       "  </tbody>\n",
       "</table>\n",
       "</div>"
      ],
      "text/plain": [
       "             MAP      NDCG\n",
       "group1  0.018488  0.155676\n",
       "group2  0.014617  0.130071\n",
       "group3  0.013024  0.117984\n",
       "group4  0.011828  0.110164\n",
       "group5  0.012067  0.111144\n",
       "group6  0.011507  0.106650\n",
       "group7  0.010789  0.100937"
      ]
     },
     "execution_count": 9,
     "metadata": {},
     "output_type": "execute_result"
    }
   ],
   "source": [
    "average_user_results: pd.DataFrame = evaluate_recommendations(recommends_avg_user, GROUPS_LIST)\n",
    "average_user_results  # pylint: disable=pointless-statement"
   ]
  },
  {
   "attachments": {},
   "cell_type": "markdown",
   "metadata": {},
   "source": [
    "## Group Sum"
   ]
  },
  {
   "cell_type": "code",
   "execution_count": 10,
   "metadata": {
    "is_executing": true
   },
   "outputs": [],
   "source": [
    "def recommend_group_sum(row: pd.Series) -> np.array:\n",
    "    unwatched_films: pd.DataFrame = movies_data[movies_data.movieId.isin(row[\"unwatched\"])].reset_index(drop=True)\n",
    "    unwatched_films_embeddings: np.array = np.stack(unwatched_films.embedding.values)\n",
    "\n",
    "    group_users: pd.DataFrame = users_data[users_data.userId.isin(row[\"userId\"])]\n",
    "    group_users_embeddings: np.array = np.stack(group_users.embedding.values)\n",
    "\n",
    "    dist_matrix = cdist(group_users_embeddings, unwatched_films_embeddings)\n",
    "    closest_films: np.array = np.sum(dist_matrix, axis=0).argsort()[:10]\n",
    "\n",
    "    top_movies: np.array = unwatched_films.loc[closest_films, \"movieId\"].values\n",
    "\n",
    "    return top_movies"
   ]
  },
  {
   "cell_type": "code",
   "execution_count": null,
   "metadata": {
    "is_executing": true
   },
   "outputs": [],
   "source": [
    "recommends_group_sum: pd.DataFrame = generate_recommendations(recommend_group_sum, recommender_data, GROUPS_LIST)"
   ]
  },
  {
   "cell_type": "code",
   "execution_count": 12,
   "metadata": {
    "is_executing": true
   },
   "outputs": [
    {
     "data": {
      "text/html": [
       "<div>\n",
       "<style scoped>\n",
       "    .dataframe tbody tr th:only-of-type {\n",
       "        vertical-align: middle;\n",
       "    }\n",
       "\n",
       "    .dataframe tbody tr th {\n",
       "        vertical-align: top;\n",
       "    }\n",
       "\n",
       "    .dataframe thead th {\n",
       "        text-align: right;\n",
       "    }\n",
       "</style>\n",
       "<table border=\"1\" class=\"dataframe\">\n",
       "  <thead>\n",
       "    <tr style=\"text-align: right;\">\n",
       "      <th></th>\n",
       "      <th>MAP</th>\n",
       "      <th>NDCG</th>\n",
       "    </tr>\n",
       "  </thead>\n",
       "  <tbody>\n",
       "    <tr>\n",
       "      <th>group1</th>\n",
       "      <td>0.018488</td>\n",
       "      <td>0.155676</td>\n",
       "    </tr>\n",
       "    <tr>\n",
       "      <th>group2</th>\n",
       "      <td>0.014598</td>\n",
       "      <td>0.129973</td>\n",
       "    </tr>\n",
       "    <tr>\n",
       "      <th>group3</th>\n",
       "      <td>0.012994</td>\n",
       "      <td>0.117759</td>\n",
       "    </tr>\n",
       "    <tr>\n",
       "      <th>group4</th>\n",
       "      <td>0.011788</td>\n",
       "      <td>0.109953</td>\n",
       "    </tr>\n",
       "    <tr>\n",
       "      <th>group5</th>\n",
       "      <td>0.012037</td>\n",
       "      <td>0.110922</td>\n",
       "    </tr>\n",
       "    <tr>\n",
       "      <th>group6</th>\n",
       "      <td>0.011465</td>\n",
       "      <td>0.106377</td>\n",
       "    </tr>\n",
       "    <tr>\n",
       "      <th>group7</th>\n",
       "      <td>0.010744</td>\n",
       "      <td>0.100582</td>\n",
       "    </tr>\n",
       "  </tbody>\n",
       "</table>\n",
       "</div>"
      ],
      "text/plain": [
       "             MAP      NDCG\n",
       "group1  0.018488  0.155676\n",
       "group2  0.014598  0.129973\n",
       "group3  0.012994  0.117759\n",
       "group4  0.011788  0.109953\n",
       "group5  0.012037  0.110922\n",
       "group6  0.011465  0.106377\n",
       "group7  0.010744  0.100582"
      ]
     },
     "execution_count": 12,
     "metadata": {},
     "output_type": "execute_result"
    }
   ],
   "source": [
    "group_sum_results: pd.DataFrame = evaluate_recommendations(recommends_group_sum, GROUPS_LIST)\n",
    "group_sum_results  # pylint: disable=pointless-statement"
   ]
  },
  {
   "cell_type": "code",
   "execution_count": null,
   "metadata": {
    "is_executing": true
   },
   "outputs": [],
   "source": [
    "task.upload_artifact(\"avg_user_metrics\", average_user_results)\n",
    "task.upload_artifact(\"group_sum_metrics\", group_sum_results)"
   ]
  },
  {
   "cell_type": "code",
   "execution_count": 14,
   "metadata": {
    "is_executing": true
   },
   "outputs": [],
   "source": [
    "task.close()"
   ]
  }
 ],
 "metadata": {
  "kernelspec": {
   "display_name": ".venv",
   "language": "python",
   "name": "python3"
  },
  "language_info": {
   "codemirror_mode": {
    "name": "ipython",
    "version": 3
   },
   "file_extension": ".py",
   "mimetype": "text/x-python",
   "name": "python",
   "nbconvert_exporter": "python",
   "pygments_lexer": "ipython3",
   "version": "3.11.0"
  },
  "orig_nbformat": 4
 },
 "nbformat": 4,
 "nbformat_minor": 2
}
