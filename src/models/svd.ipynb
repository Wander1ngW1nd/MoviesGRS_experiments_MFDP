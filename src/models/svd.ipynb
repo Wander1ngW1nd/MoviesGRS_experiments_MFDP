{
 "cells": [
  {
   "cell_type": "code",
   "execution_count": null,
   "metadata": {
    "ExecuteTime": {
     "end_time": "2023-06-12T19:38:19.079688179Z",
     "start_time": "2023-06-12T19:38:18.633972177Z"
    }
   },
   "outputs": [],
   "source": [
    "# pylint: disable=wrong-import-position\n",
    "\n",
    "# temporary solution with working directory hoping for correct imports\n",
    "%cd \"..\"\n",
    "\n",
    "import clearml\n",
    "import numpy as np\n",
    "import pandas as pd\n",
    "import surprise\n",
    "from surprise import SVD, Dataset, Reader\n",
    "\n",
    "from utils.dataset_for_evaluation_collector import collect_unwatched_train_watched_test_movies\n",
    "from utils.recommendations_evaluation import evaluate_recommendations, generate_recommendations\n",
    "\n",
    "np.random.seed(42)\n",
    "\n",
    "%cd \"models\""
   ]
  },
  {
   "cell_type": "code",
   "execution_count": null,
   "metadata": {},
   "outputs": [],
   "source": [
    "task = clearml.Task.init(project_name=\"MoviesGRS_MFDP\", task_name=\"SVDRecommender\", tags=[\"SVDRecommender\"])"
   ]
  },
  {
   "cell_type": "code",
   "execution_count": 3,
   "metadata": {},
   "outputs": [],
   "source": [
    "GROUPS_LIST = [f\"group{i}\" for i in range(1, 8)]"
   ]
  },
  {
   "cell_type": "code",
   "execution_count": 4,
   "metadata": {},
   "outputs": [],
   "source": [
    "unwatched_train_watched_test_movies: pd.DataFrame = collect_unwatched_train_watched_test_movies(GROUPS_LIST)"
   ]
  },
  {
   "cell_type": "code",
   "execution_count": 5,
   "metadata": {},
   "outputs": [],
   "source": [
    "MIN_RATING = 1\n",
    "MAX_RATING = 5\n",
    "\n",
    "train_data: pd.DataFrame = pd.read_parquet(\"../data/ratings_train.pq\")\n",
    "reader = Reader(rating_scale=(MIN_RATING, MAX_RATING))\n",
    "surprise_train_dataset = Dataset.load_from_df(train_data[[\"userId\", \"movieId\", \"rating\"]], reader)\n",
    "trainset: surprise.Trainset = surprise_train_dataset.build_full_trainset()\n",
    "\n",
    "svd = SVD(n_factors=17, n_epochs=30)\n",
    "svd.fit(trainset)"
   ]
  },
  {
   "attachments": {},
   "cell_type": "markdown",
   "metadata": {},
   "source": [
    "## Average user"
   ]
  },
  {
   "cell_type": "code",
   "execution_count": 6,
   "metadata": {},
   "outputs": [],
   "source": [
    "def recommend_avg_user(row: pd.Series) -> np.array:\n",
    "    movie_pseudorating: np.array = svd.bi[row[\"unwatched\"]] + (\n",
    "        svd.qi[row[\"unwatched\"]] @ np.mean(svd.pu[row[\"userId\"]], axis=0)\n",
    "    )\n",
    "    top_movies: np.array = row[\"unwatched\"][np.argsort(-movie_pseudorating)][:10]\n",
    "    return top_movies"
   ]
  },
  {
   "cell_type": "code",
   "execution_count": null,
   "metadata": {},
   "outputs": [],
   "source": [
    "recommends_avg_user: pd.DataFrame = generate_recommendations(\n",
    "    recommend_avg_user, unwatched_train_watched_test_movies, GROUPS_LIST\n",
    ")"
   ]
  },
  {
   "cell_type": "code",
   "execution_count": 8,
   "metadata": {},
   "outputs": [
    {
     "name": "stdout",
     "output_type": "stream",
     "text": [
      "ClearML Monitor: Could not detect iteration reporting, falling back to iterations as seconds-from-start\n"
     ]
    },
    {
     "data": {
      "text/html": [
       "<div>\n",
       "<style scoped>\n",
       "    .dataframe tbody tr th:only-of-type {\n",
       "        vertical-align: middle;\n",
       "    }\n",
       "\n",
       "    .dataframe tbody tr th {\n",
       "        vertical-align: top;\n",
       "    }\n",
       "\n",
       "    .dataframe thead th {\n",
       "        text-align: right;\n",
       "    }\n",
       "</style>\n",
       "<table border=\"1\" class=\"dataframe\">\n",
       "  <thead>\n",
       "    <tr style=\"text-align: right;\">\n",
       "      <th></th>\n",
       "      <th>MAP</th>\n",
       "      <th>NDCG</th>\n",
       "    </tr>\n",
       "  </thead>\n",
       "  <tbody>\n",
       "    <tr>\n",
       "      <th>group1</th>\n",
       "      <td>0.013029</td>\n",
       "      <td>0.119228</td>\n",
       "    </tr>\n",
       "    <tr>\n",
       "      <th>group2</th>\n",
       "      <td>0.013027</td>\n",
       "      <td>0.117886</td>\n",
       "    </tr>\n",
       "    <tr>\n",
       "      <th>group3</th>\n",
       "      <td>0.012804</td>\n",
       "      <td>0.115516</td>\n",
       "    </tr>\n",
       "    <tr>\n",
       "      <th>group4</th>\n",
       "      <td>0.012553</td>\n",
       "      <td>0.113020</td>\n",
       "    </tr>\n",
       "    <tr>\n",
       "      <th>group5</th>\n",
       "      <td>0.012593</td>\n",
       "      <td>0.113308</td>\n",
       "    </tr>\n",
       "    <tr>\n",
       "      <th>group6</th>\n",
       "      <td>0.012281</td>\n",
       "      <td>0.111050</td>\n",
       "    </tr>\n",
       "    <tr>\n",
       "      <th>group7</th>\n",
       "      <td>0.012091</td>\n",
       "      <td>0.109125</td>\n",
       "    </tr>\n",
       "  </tbody>\n",
       "</table>\n",
       "</div>"
      ],
      "text/plain": [
       "             MAP      NDCG\n",
       "group1  0.013029  0.119228\n",
       "group2  0.013027  0.117886\n",
       "group3  0.012804  0.115516\n",
       "group4  0.012553  0.113020\n",
       "group5  0.012593  0.113308\n",
       "group6  0.012281  0.111050\n",
       "group7  0.012091  0.109125"
      ]
     },
     "execution_count": 8,
     "metadata": {},
     "output_type": "execute_result"
    }
   ],
   "source": [
    "average_user_results: pd.DataFrame = evaluate_recommendations(recommends_avg_user, GROUPS_LIST)\n",
    "average_user_results  # pylint: disable=pointless-statement"
   ]
  },
  {
   "attachments": {},
   "cell_type": "markdown",
   "metadata": {},
   "source": [
    "## Group Sum"
   ]
  },
  {
   "cell_type": "code",
   "execution_count": 9,
   "metadata": {},
   "outputs": [],
   "source": [
    "def recommend_group_sum(row: pd.Series) -> np.array:\n",
    "    movie_pseudorating: np.array = svd.bi[row[\"unwatched\"]] + (\n",
    "        np.sum(svd.qi[row[\"unwatched\"]] @ svd.pu[row[\"userId\"]].T, axis=1)\n",
    "    )\n",
    "    top_movies: np.array = row[\"unwatched\"][np.argsort(-movie_pseudorating)][:10]\n",
    "    return top_movies"
   ]
  },
  {
   "cell_type": "code",
   "execution_count": null,
   "metadata": {},
   "outputs": [],
   "source": [
    "recommends_group_sum: pd.DataFrame = generate_recommendations(\n",
    "    recommend_group_sum, unwatched_train_watched_test_movies, GROUPS_LIST\n",
    ")"
   ]
  },
  {
   "cell_type": "code",
   "execution_count": 11,
   "metadata": {},
   "outputs": [
    {
     "data": {
      "text/html": [
       "<div>\n",
       "<style scoped>\n",
       "    .dataframe tbody tr th:only-of-type {\n",
       "        vertical-align: middle;\n",
       "    }\n",
       "\n",
       "    .dataframe tbody tr th {\n",
       "        vertical-align: top;\n",
       "    }\n",
       "\n",
       "    .dataframe thead th {\n",
       "        text-align: right;\n",
       "    }\n",
       "</style>\n",
       "<table border=\"1\" class=\"dataframe\">\n",
       "  <thead>\n",
       "    <tr style=\"text-align: right;\">\n",
       "      <th></th>\n",
       "      <th>MAP</th>\n",
       "      <th>NDCG</th>\n",
       "    </tr>\n",
       "  </thead>\n",
       "  <tbody>\n",
       "    <tr>\n",
       "      <th>group1</th>\n",
       "      <td>0.013029</td>\n",
       "      <td>0.119228</td>\n",
       "    </tr>\n",
       "    <tr>\n",
       "      <th>group2</th>\n",
       "      <td>0.011667</td>\n",
       "      <td>0.109666</td>\n",
       "    </tr>\n",
       "    <tr>\n",
       "      <th>group3</th>\n",
       "      <td>0.010804</td>\n",
       "      <td>0.103025</td>\n",
       "    </tr>\n",
       "    <tr>\n",
       "      <th>group4</th>\n",
       "      <td>0.010118</td>\n",
       "      <td>0.097659</td>\n",
       "    </tr>\n",
       "    <tr>\n",
       "      <th>group5</th>\n",
       "      <td>0.010304</td>\n",
       "      <td>0.098881</td>\n",
       "    </tr>\n",
       "    <tr>\n",
       "      <th>group6</th>\n",
       "      <td>0.009949</td>\n",
       "      <td>0.096097</td>\n",
       "    </tr>\n",
       "    <tr>\n",
       "      <th>group7</th>\n",
       "      <td>0.009546</td>\n",
       "      <td>0.093057</td>\n",
       "    </tr>\n",
       "  </tbody>\n",
       "</table>\n",
       "</div>"
      ],
      "text/plain": [
       "             MAP      NDCG\n",
       "group1  0.013029  0.119228\n",
       "group2  0.011667  0.109666\n",
       "group3  0.010804  0.103025\n",
       "group4  0.010118  0.097659\n",
       "group5  0.010304  0.098881\n",
       "group6  0.009949  0.096097\n",
       "group7  0.009546  0.093057"
      ]
     },
     "execution_count": 11,
     "metadata": {},
     "output_type": "execute_result"
    }
   ],
   "source": [
    "group_sum_results: pd.DataFrame = evaluate_recommendations(recommends_group_sum, GROUPS_LIST)\n",
    "group_sum_results  # pylint: disable=pointless-statement"
   ]
  },
  {
   "cell_type": "code",
   "execution_count": null,
   "metadata": {},
   "outputs": [],
   "source": [
    "task.upload_artifact(\"avg_user_metrics\", average_user_results)\n",
    "task.upload_artifact(\"group_sum_metrics\", group_sum_results)"
   ]
  },
  {
   "cell_type": "code",
   "execution_count": 13,
   "metadata": {},
   "outputs": [],
   "source": [
    "task.close()"
   ]
  }
 ],
 "metadata": {
  "kernelspec": {
   "display_name": ".venv",
   "language": "python",
   "name": "python3"
  },
  "language_info": {
   "codemirror_mode": {
    "name": "ipython",
    "version": 3
   },
   "file_extension": ".py",
   "mimetype": "text/x-python",
   "name": "python",
   "nbconvert_exporter": "python",
   "pygments_lexer": "ipython3",
   "version": "3.11.0"
  },
  "orig_nbformat": 4
 },
 "nbformat": 4,
 "nbformat_minor": 2
}
