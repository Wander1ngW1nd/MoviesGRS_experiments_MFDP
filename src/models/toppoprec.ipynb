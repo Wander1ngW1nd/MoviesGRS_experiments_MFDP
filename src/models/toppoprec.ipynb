{
 "cells": [
  {
   "cell_type": "code",
   "execution_count": null,
   "metadata": {
    "ExecuteTime": {
     "end_time": "2023-06-12T19:38:48.388320675Z",
     "start_time": "2023-06-12T19:38:47.993981983Z"
    }
   },
   "outputs": [],
   "source": [
    "import clearml\n",
    "import numpy as np\n",
    "import pandas as pd\n",
    "from dotenv import load_dotenv\n",
    "\n",
    "from utils.evaluation import evaluate_recommendations, generate_recommendations\n",
    "from utils.recommender_data_preprocessor import get_recommender_data\n",
    "\n",
    "np.random.seed(42)\n",
    "load_dotenv()"
   ]
  },
  {
   "cell_type": "code",
   "execution_count": null,
   "metadata": {},
   "outputs": [],
   "source": [
    "task = clearml.Task.init(\n",
    "    project_name=\"MoviesGRS_MFDP\", task_name=\"TopPopularMoviesRecommender\", tags=[\"TopPopularMoviesRecommender\"]\n",
    ")"
   ]
  },
  {
   "cell_type": "code",
   "execution_count": 3,
   "metadata": {},
   "outputs": [],
   "source": [
    "GROUPS_LIST = [f\"group{i}\" for i in range(1, 8)]"
   ]
  },
  {
   "cell_type": "code",
   "execution_count": 4,
   "metadata": {},
   "outputs": [],
   "source": [
    "recommender_data: pd.DataFrame = get_recommender_data(GROUPS_LIST)"
   ]
  },
  {
   "cell_type": "code",
   "execution_count": 5,
   "metadata": {},
   "outputs": [],
   "source": [
    "top_popular_movies: pd.DataFrame = (\n",
    "    pd.read_parquet(\"data/ratings_train.pq\")\n",
    "    .groupby(by=\"movieId\")\n",
    "    .agg({\"userId\": \"nunique\"})\n",
    "    .sort_values(by=\"userId\", ascending=False)\n",
    "    .rename(columns={\"userId\": \"userCount\"})\n",
    "    .reset_index()\n",
    ")"
   ]
  },
  {
   "cell_type": "code",
   "execution_count": 6,
   "metadata": {},
   "outputs": [],
   "source": [
    "def recommend(row: pd.Series) -> np.array:\n",
    "    top_movies = []\n",
    "    for movie in top_popular_movies.movieId:\n",
    "        if movie in row[\"unwatched\"]:\n",
    "            top_movies.append(movie)\n",
    "            if len(top_movies) == 10:\n",
    "                return np.array(top_movies)\n",
    "    return np.array(top_movies)"
   ]
  },
  {
   "cell_type": "code",
   "execution_count": null,
   "metadata": {},
   "outputs": [],
   "source": [
    "recommends: pd.DataFrame = generate_recommendations(recommend, recommender_data, GROUPS_LIST)"
   ]
  },
  {
   "cell_type": "code",
   "execution_count": 8,
   "metadata": {},
   "outputs": [
    {
     "name": "stdout",
     "output_type": "stream",
     "text": [
      "ClearML Monitor: Could not detect iteration reporting, falling back to iterations as seconds-from-start\n"
     ]
    },
    {
     "data": {
      "text/html": [
       "<div>\n",
       "<style scoped>\n",
       "    .dataframe tbody tr th:only-of-type {\n",
       "        vertical-align: middle;\n",
       "    }\n",
       "\n",
       "    .dataframe tbody tr th {\n",
       "        vertical-align: top;\n",
       "    }\n",
       "\n",
       "    .dataframe thead th {\n",
       "        text-align: right;\n",
       "    }\n",
       "</style>\n",
       "<table border=\"1\" class=\"dataframe\">\n",
       "  <thead>\n",
       "    <tr style=\"text-align: right;\">\n",
       "      <th></th>\n",
       "      <th>MAP</th>\n",
       "      <th>NDCG</th>\n",
       "    </tr>\n",
       "  </thead>\n",
       "  <tbody>\n",
       "    <tr>\n",
       "      <th>group1</th>\n",
       "      <td>0.056851</td>\n",
       "      <td>0.277816</td>\n",
       "    </tr>\n",
       "    <tr>\n",
       "      <th>group2</th>\n",
       "      <td>0.049428</td>\n",
       "      <td>0.258088</td>\n",
       "    </tr>\n",
       "    <tr>\n",
       "      <th>group3</th>\n",
       "      <td>0.043397</td>\n",
       "      <td>0.240154</td>\n",
       "    </tr>\n",
       "    <tr>\n",
       "      <th>group4</th>\n",
       "      <td>0.038745</td>\n",
       "      <td>0.226101</td>\n",
       "    </tr>\n",
       "    <tr>\n",
       "      <th>group5</th>\n",
       "      <td>0.039790</td>\n",
       "      <td>0.228874</td>\n",
       "    </tr>\n",
       "    <tr>\n",
       "      <th>group6</th>\n",
       "      <td>0.036306</td>\n",
       "      <td>0.217078</td>\n",
       "    </tr>\n",
       "    <tr>\n",
       "      <th>group7</th>\n",
       "      <td>0.033880</td>\n",
       "      <td>0.208103</td>\n",
       "    </tr>\n",
       "  </tbody>\n",
       "</table>\n",
       "</div>"
      ],
      "text/plain": [
       "             MAP      NDCG\n",
       "group1  0.056851  0.277816\n",
       "group2  0.049428  0.258088\n",
       "group3  0.043397  0.240154\n",
       "group4  0.038745  0.226101\n",
       "group5  0.039790  0.228874\n",
       "group6  0.036306  0.217078\n",
       "group7  0.033880  0.208103"
      ]
     },
     "execution_count": 8,
     "metadata": {},
     "output_type": "execute_result"
    }
   ],
   "source": [
    "results: pd.DataFrame = evaluate_recommendations(recommends, GROUPS_LIST)\n",
    "results  # pylint: disable=pointless-statement"
   ]
  },
  {
   "cell_type": "code",
   "execution_count": null,
   "metadata": {},
   "outputs": [],
   "source": [
    "task.upload_artifact(\"metrics\", results)"
   ]
  },
  {
   "cell_type": "code",
   "execution_count": 10,
   "metadata": {},
   "outputs": [],
   "source": [
    "task.close()"
   ]
  }
 ],
 "metadata": {
  "kernelspec": {
   "display_name": ".venv",
   "language": "python",
   "name": "python3"
  },
  "language_info": {
   "codemirror_mode": {
    "name": "ipython",
    "version": 3
   },
   "file_extension": ".py",
   "mimetype": "text/x-python",
   "name": "python",
   "nbconvert_exporter": "python",
   "pygments_lexer": "ipython3",
   "version": "3.10.8"
  },
  "orig_nbformat": 4
 },
 "nbformat": 4,
 "nbformat_minor": 2
}
