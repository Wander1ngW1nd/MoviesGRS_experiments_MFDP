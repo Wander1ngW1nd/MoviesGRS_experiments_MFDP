{
 "cells": [
  {
   "cell_type": "code",
   "execution_count": null,
   "metadata": {
    "ExecuteTime": {
     "end_time": "2023-06-12T19:38:32.268431749Z",
     "start_time": "2023-06-12T19:38:32.037981315Z"
    }
   },
   "outputs": [],
   "source": [
    "import pandas as pd\n",
    "import surprise\n",
    "from dotenv import load_dotenv\n",
    "from surprise import SVD, Dataset, Reader\n",
    "from surprise.model_selection import GridSearchCV\n",
    "\n",
    "load_dotenv()"
   ]
  },
  {
   "cell_type": "code",
   "execution_count": 3,
   "metadata": {},
   "outputs": [],
   "source": [
    "MIN_RATING = 1\n",
    "MAX_RATING = 5\n",
    "\n",
    "train_data: pd.DataFrame = pd.read_parquet(\"data/ratings_train.pq\")\n",
    "reader = Reader(rating_scale=(MIN_RATING, MAX_RATING))\n",
    "surprise_train_dataset = Dataset.load_from_df(train_data[[\"userId\", \"movieId\", \"rating\"]], reader)\n",
    "trainset: surprise.Trainset = surprise_train_dataset.build_full_trainset()"
   ]
  },
  {
   "cell_type": "code",
   "execution_count": null,
   "metadata": {},
   "outputs": [],
   "source": [
    "param_grid = {\"n_factors\": [75, 100, 125], \"n_epochs\": [25, 50, 75]}\n",
    "\n",
    "grid_search = GridSearchCV(SVD, param_grid, measures=[\"rmse\", \"mae\"], cv=2)\n",
    "grid_search.fit(surprise_train_dataset)"
   ]
  },
  {
   "cell_type": "code",
   "execution_count": null,
   "metadata": {},
   "outputs": [
    {
     "name": "stdout",
     "output_type": "stream",
     "text": [
      "{'rmse': 0.8260481067360091, 'mae': 0.6250276877525159}\n",
      "{'rmse': {'n_factors': 75, 'n_epochs': 25}, 'mae': {'n_factors': 75, 'n_epochs': 25}}\n"
     ]
    }
   ],
   "source": [
    "print(grid_search.best_score)\n",
    "print(grid_search.best_params)"
   ]
  },
  {
   "cell_type": "code",
   "execution_count": null,
   "metadata": {},
   "outputs": [],
   "source": [
    "param_grid = {\"n_factors\": [25, 50, 75], \"n_epochs\": [10, 15, 25]}\n",
    "\n",
    "grid_search_2 = GridSearchCV(SVD, param_grid, measures=[\"rmse\", \"mae\"], cv=2)\n",
    "grid_search_2.fit(surprise_train_dataset)"
   ]
  },
  {
   "cell_type": "code",
   "execution_count": null,
   "metadata": {},
   "outputs": [
    {
     "name": "stdout",
     "output_type": "stream",
     "text": [
      "{'rmse': 0.823731995095111, 'mae': 0.6224853277777231}\n",
      "{'rmse': {'n_factors': 25, 'n_epochs': 25}, 'mae': {'n_factors': 25, 'n_epochs': 25}}\n"
     ]
    }
   ],
   "source": [
    "print(grid_search_2.best_score)\n",
    "print(grid_search_2.best_params)"
   ]
  },
  {
   "cell_type": "code",
   "execution_count": null,
   "metadata": {},
   "outputs": [],
   "source": [
    "param_grid = {\"n_factors\": [10, 17, 25], \"n_epochs\": [25, 30, 35]}\n",
    "\n",
    "grid_search_3 = GridSearchCV(SVD, param_grid, measures=[\"rmse\", \"mae\"], cv=2)\n",
    "grid_search_3.fit(surprise_train_dataset)"
   ]
  },
  {
   "cell_type": "code",
   "execution_count": null,
   "metadata": {},
   "outputs": [
    {
     "name": "stdout",
     "output_type": "stream",
     "text": [
      "{'rmse': 0.8218143757251857, 'mae': 0.6202771955576911}\n",
      "{'rmse': {'n_factors': 17, 'n_epochs': 30}, 'mae': {'n_factors': 17, 'n_epochs': 30}}\n"
     ]
    }
   ],
   "source": [
    "print(grid_search_3.best_score)\n",
    "print(grid_search_3.best_params)"
   ]
  }
 ],
 "metadata": {
  "kernelspec": {
   "display_name": ".venv",
   "language": "python",
   "name": "python3"
  },
  "language_info": {
   "codemirror_mode": {
    "name": "ipython",
    "version": 3
   },
   "file_extension": ".py",
   "mimetype": "text/x-python",
   "name": "python",
   "nbconvert_exporter": "python",
   "pygments_lexer": "ipython3",
   "version": "3.10.8"
  },
  "orig_nbformat": 4
 },
 "nbformat": 4,
 "nbformat_minor": 2
}
