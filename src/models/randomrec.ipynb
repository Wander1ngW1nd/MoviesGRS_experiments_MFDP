{
 "cells": [
  {
   "cell_type": "code",
   "execution_count": null,
   "metadata": {
    "ExecuteTime": {
     "end_time": "2023-06-12T19:38:18.085674078Z",
     "start_time": "2023-06-12T19:38:17.493914389Z"
    }
   },
   "outputs": [],
   "source": [
    "import clearml\n",
    "import numpy as np\n",
    "import pandas as pd\n",
    "\n",
    "from utils.evaluation import evaluate_recommendations, generate_recommendations\n",
    "from utils.recommender_data_preprocessor import get_recommender_data\n",
    "\n",
    "np.random.seed(42)"
   ]
  },
  {
   "cell_type": "code",
   "execution_count": null,
   "metadata": {},
   "outputs": [],
   "source": [
    "task = clearml.Task.init(project_name=\"MoviesGRS_MFDP\", task_name=\"RandomRecommender\", tags=[\"RandomRecommender\"])"
   ]
  },
  {
   "cell_type": "code",
   "execution_count": 3,
   "metadata": {},
   "outputs": [],
   "source": [
    "GROUPS_LIST = [f\"group{i}\" for i in range(1, 8)]"
   ]
  },
  {
   "cell_type": "code",
   "execution_count": 4,
   "metadata": {},
   "outputs": [],
   "source": [
    "recommender_data: pd.DataFrame = get_recommender_data(GROUPS_LIST)"
   ]
  },
  {
   "cell_type": "code",
   "execution_count": 5,
   "metadata": {},
   "outputs": [],
   "source": [
    "def recommend(row: pd.Series) -> np.array:\n",
    "    return np.random.choice(row[\"unwatched\"], size=10, replace=False)"
   ]
  },
  {
   "cell_type": "code",
   "execution_count": null,
   "metadata": {},
   "outputs": [],
   "source": [
    "recommends: pd.DataFrame = generate_recommendations(recommend, recommender_data, GROUPS_LIST)"
   ]
  },
  {
   "cell_type": "code",
   "execution_count": 7,
   "metadata": {},
   "outputs": [
    {
     "name": "stdout",
     "output_type": "stream",
     "text": [
      "ClearML Monitor: Could not detect iteration reporting, falling back to iterations as seconds-from-start\n"
     ]
    },
    {
     "data": {
      "text/html": [
       "<div>\n",
       "<style scoped>\n",
       "    .dataframe tbody tr th:only-of-type {\n",
       "        vertical-align: middle;\n",
       "    }\n",
       "\n",
       "    .dataframe tbody tr th {\n",
       "        vertical-align: top;\n",
       "    }\n",
       "\n",
       "    .dataframe thead th {\n",
       "        text-align: right;\n",
       "    }\n",
       "</style>\n",
       "<table border=\"1\" class=\"dataframe\">\n",
       "  <thead>\n",
       "    <tr style=\"text-align: right;\">\n",
       "      <th></th>\n",
       "      <th>MAP</th>\n",
       "      <th>NDCG</th>\n",
       "    </tr>\n",
       "  </thead>\n",
       "  <tbody>\n",
       "    <tr>\n",
       "      <th>group1</th>\n",
       "      <td>0.010588</td>\n",
       "      <td>0.103629</td>\n",
       "    </tr>\n",
       "    <tr>\n",
       "      <th>group2</th>\n",
       "      <td>0.010125</td>\n",
       "      <td>0.100240</td>\n",
       "    </tr>\n",
       "    <tr>\n",
       "      <th>group3</th>\n",
       "      <td>0.009554</td>\n",
       "      <td>0.095163</td>\n",
       "    </tr>\n",
       "    <tr>\n",
       "      <th>group4</th>\n",
       "      <td>0.009391</td>\n",
       "      <td>0.093549</td>\n",
       "    </tr>\n",
       "    <tr>\n",
       "      <th>group5</th>\n",
       "      <td>0.009381</td>\n",
       "      <td>0.093522</td>\n",
       "    </tr>\n",
       "    <tr>\n",
       "      <th>group6</th>\n",
       "      <td>0.009283</td>\n",
       "      <td>0.092144</td>\n",
       "    </tr>\n",
       "    <tr>\n",
       "      <th>group7</th>\n",
       "      <td>0.008909</td>\n",
       "      <td>0.088835</td>\n",
       "    </tr>\n",
       "  </tbody>\n",
       "</table>\n",
       "</div>"
      ],
      "text/plain": [
       "             MAP      NDCG\n",
       "group1  0.010588  0.103629\n",
       "group2  0.010125  0.100240\n",
       "group3  0.009554  0.095163\n",
       "group4  0.009391  0.093549\n",
       "group5  0.009381  0.093522\n",
       "group6  0.009283  0.092144\n",
       "group7  0.008909  0.088835"
      ]
     },
     "execution_count": 7,
     "metadata": {},
     "output_type": "execute_result"
    }
   ],
   "source": [
    "results: pd.DataFrame = evaluate_recommendations(recommends, GROUPS_LIST)\n",
    "results  # pylint: disable=pointless-statement"
   ]
  },
  {
   "cell_type": "code",
   "execution_count": null,
   "metadata": {},
   "outputs": [],
   "source": [
    "task.upload_artifact(\"metrics\", results)"
   ]
  },
  {
   "cell_type": "code",
   "execution_count": 9,
   "metadata": {},
   "outputs": [],
   "source": [
    "task.close()"
   ]
  }
 ],
 "metadata": {
  "kernelspec": {
   "display_name": ".venv",
   "language": "python",
   "name": "python3"
  },
  "language_info": {
   "codemirror_mode": {
    "name": "ipython",
    "version": 3
   },
   "file_extension": ".py",
   "mimetype": "text/x-python",
   "name": "python",
   "nbconvert_exporter": "python",
   "pygments_lexer": "ipython3",
   "version": "3.11.0"
  },
  "orig_nbformat": 4
 },
 "nbformat": 4,
 "nbformat_minor": 2
}
