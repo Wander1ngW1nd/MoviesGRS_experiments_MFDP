{
 "cells": [
  {
   "cell_type": "code",
   "execution_count": null,
   "metadata": {
    "ExecuteTime": {
     "end_time": "2023-06-12T19:37:34.217488939Z",
     "start_time": "2023-06-12T19:37:32.542813801Z"
    }
   },
   "outputs": [],
   "source": [
    "# temporary solution with working directory hoping for correct imports\n",
    "%cd \"..\" # pylint: disable=wrong-import-position\n",
    "\n",
    "import clearml\n",
    "import numpy as np\n",
    "import pandas as pd\n",
    "from scipy.spatial.distance import cdist\n",
    "from sentence_transformers import SentenceTransformer\n",
    "\n",
    "from utils.dataset_for_evaluation_collector import collect_unwatched_train_watched_test_movies, load_movies_data\n",
    "from utils.recommendations_evaluation import evaluate_recommendations, generate_recommendations\n",
    "\n",
    "np.random.seed(42)\n",
    "\n",
    "%cd \"models\"  # pylint: disable=wrong-import-position"
   ]
  },
  {
   "cell_type": "code",
   "execution_count": null,
   "metadata": {},
   "outputs": [],
   "source": [
    "task = clearml.Task.init(\n",
    "    project_name=\"MoviesGRS_MFDP\",\n",
    "    task_name=\"MovieEmbeddingsRecommender\",\n",
    "    tags=[\"MovieEmbeddingsRecommender\", \"paraphrase-distilroberta-base-v1\"],\n",
    ")"
   ]
  },
  {
   "cell_type": "code",
   "execution_count": 3,
   "metadata": {
    "ExecuteTime": {
     "end_time": "2023-06-01T21:58:59.179214679Z",
     "start_time": "2023-06-01T21:58:59.175921020Z"
    }
   },
   "outputs": [],
   "source": [
    "GROUPS_LIST = [f\"group{i}\" for i in range(1, 8)]"
   ]
  },
  {
   "cell_type": "code",
   "execution_count": 4,
   "metadata": {
    "ExecuteTime": {
     "end_time": "2023-06-01T21:59:13.799918395Z",
     "start_time": "2023-06-01T21:58:59.180321463Z"
    }
   },
   "outputs": [],
   "source": [
    "unwatched_train_watched_test_movies: pd.DataFrame = collect_unwatched_train_watched_test_movies(GROUPS_LIST)"
   ]
  },
  {
   "cell_type": "code",
   "execution_count": null,
   "metadata": {
    "ExecuteTime": {
     "end_time": "2023-06-01T21:59:27.058048655Z",
     "start_time": "2023-06-01T21:59:13.802039815Z"
    }
   },
   "outputs": [],
   "source": [
    "transformer = SentenceTransformer(\"paraphrase-distilroberta-base-v1\")\n",
    "movies_data: pd.DataFrame = load_movies_data()\n",
    "movies_data[\"embedding\"] = movies_data[\"plot\"].apply(transformer.encode)"
   ]
  },
  {
   "cell_type": "code",
   "execution_count": null,
   "metadata": {
    "ExecuteTime": {
     "end_time": "2023-06-01T22:00:32.526577082Z",
     "start_time": "2023-06-01T21:59:27.035507668Z"
    }
   },
   "outputs": [],
   "source": [
    "users_data: pd.DataFrame = (\n",
    "    pd.read_parquet(\"../data/ratings_train.pq\")\n",
    "    .groupby(\"userId\")\n",
    "    .agg({col: list for col in [\"movieId\", \"rating\"]})\n",
    "    .reset_index()\n",
    ")\n",
    "users_data[\"movieId\"] = users_data[\"movieId\"].apply(np.array)\n",
    "users_data[\"rating\"] = users_data[\"rating\"].apply(np.array)\n",
    "users_data[\"embedding\"] = users_data.apply(\n",
    "    lambda row: np.mean(\n",
    "        movies_data[movies_data.movieId.isin(row[\"movieId\"])].embedding * row[\"rating\"],\n",
    "        axis=0,\n",
    "    ),\n",
    "    axis=1,\n",
    ")\n",
    "users_data = users_data[[\"userId\", \"embedding\"]]"
   ]
  },
  {
   "attachments": {},
   "cell_type": "markdown",
   "metadata": {},
   "source": [
    "## Average user"
   ]
  },
  {
   "cell_type": "code",
   "execution_count": 8,
   "metadata": {
    "ExecuteTime": {
     "end_time": "2023-06-01T22:00:32.527026270Z",
     "start_time": "2023-06-01T22:00:32.519404064Z"
    }
   },
   "outputs": [],
   "source": [
    "def recommend_avg_user(row: pd.Series) -> np.array:\n",
    "    unwatched_films: pd.DataFrame = movies_data[movies_data.movieId.isin(row[\"unwatched\"])].reset_index(drop=True)\n",
    "    unwatched_films_embeddings: np.array = np.stack(unwatched_films.embedding.values)\n",
    "\n",
    "    avg_user_embedding: np.array = np.mean(users_data[users_data.userId.isin(row[\"userId\"])].embedding, axis=0).reshape(\n",
    "        1, -1\n",
    "    )\n",
    "\n",
    "    dist_matrix: np.array = cdist(avg_user_embedding, unwatched_films_embeddings, metric=\"cosine\").reshape(-1)\n",
    "    closest_films: np.array = dist_matrix.argsort()[:10]\n",
    "\n",
    "    top_movies: np.array = unwatched_films.loc[closest_films, \"movieId\"].values\n",
    "\n",
    "    return top_movies"
   ]
  },
  {
   "cell_type": "code",
   "execution_count": null,
   "metadata": {
    "ExecuteTime": {
     "start_time": "2023-06-01T22:00:32.519618721Z"
    },
    "is_executing": true
   },
   "outputs": [],
   "source": [
    "recommends_avg_user: pd.DataFrame = generate_recommendations(\n",
    "    recommend_avg_user, unwatched_train_watched_test_movies, GROUPS_LIST\n",
    ")"
   ]
  },
  {
   "cell_type": "code",
   "execution_count": 10,
   "metadata": {
    "is_executing": true
   },
   "outputs": [
    {
     "data": {
      "text/html": [
       "<div>\n",
       "<style scoped>\n",
       "    .dataframe tbody tr th:only-of-type {\n",
       "        vertical-align: middle;\n",
       "    }\n",
       "\n",
       "    .dataframe tbody tr th {\n",
       "        vertical-align: top;\n",
       "    }\n",
       "\n",
       "    .dataframe thead th {\n",
       "        text-align: right;\n",
       "    }\n",
       "</style>\n",
       "<table border=\"1\" class=\"dataframe\">\n",
       "  <thead>\n",
       "    <tr style=\"text-align: right;\">\n",
       "      <th></th>\n",
       "      <th>MAP</th>\n",
       "      <th>NDCG</th>\n",
       "    </tr>\n",
       "  </thead>\n",
       "  <tbody>\n",
       "    <tr>\n",
       "      <th>group1</th>\n",
       "      <td>0.018087</td>\n",
       "      <td>0.152896</td>\n",
       "    </tr>\n",
       "    <tr>\n",
       "      <th>group2</th>\n",
       "      <td>0.014279</td>\n",
       "      <td>0.127830</td>\n",
       "    </tr>\n",
       "    <tr>\n",
       "      <th>group3</th>\n",
       "      <td>0.012682</td>\n",
       "      <td>0.115725</td>\n",
       "    </tr>\n",
       "    <tr>\n",
       "      <th>group4</th>\n",
       "      <td>0.011553</td>\n",
       "      <td>0.108357</td>\n",
       "    </tr>\n",
       "    <tr>\n",
       "      <th>group5</th>\n",
       "      <td>0.011819</td>\n",
       "      <td>0.109612</td>\n",
       "    </tr>\n",
       "    <tr>\n",
       "      <th>group6</th>\n",
       "      <td>0.011309</td>\n",
       "      <td>0.105400</td>\n",
       "    </tr>\n",
       "    <tr>\n",
       "      <th>group7</th>\n",
       "      <td>0.010644</td>\n",
       "      <td>0.099867</td>\n",
       "    </tr>\n",
       "  </tbody>\n",
       "</table>\n",
       "</div>"
      ],
      "text/plain": [
       "             MAP      NDCG\n",
       "group1  0.018087  0.152896\n",
       "group2  0.014279  0.127830\n",
       "group3  0.012682  0.115725\n",
       "group4  0.011553  0.108357\n",
       "group5  0.011819  0.109612\n",
       "group6  0.011309  0.105400\n",
       "group7  0.010644  0.099867"
      ]
     },
     "execution_count": 10,
     "metadata": {},
     "output_type": "execute_result"
    }
   ],
   "source": [
    "average_user_results: pd.DataFrame = evaluate_recommendations(recommends_avg_user, GROUPS_LIST)\n",
    "average_user_results  # pylint: disable=pointless-statement"
   ]
  },
  {
   "attachments": {},
   "cell_type": "markdown",
   "metadata": {},
   "source": [
    "## Group Sum"
   ]
  },
  {
   "cell_type": "code",
   "execution_count": 11,
   "metadata": {
    "is_executing": true
   },
   "outputs": [],
   "source": [
    "def recommend_group_sum(row: pd.Series) -> np.array:\n",
    "    unwatched_films: pd.DataFrame = movies_data[movies_data.movieId.isin(row[\"unwatched\"])].reset_index(drop=True)\n",
    "    unwatched_films_embeddings: np.array = np.stack(unwatched_films.embedding.values)\n",
    "\n",
    "    group_users: pd.DataFrame = users_data[users_data.userId.isin(row[\"userId\"])]\n",
    "    group_users_embeddings: np.array = np.stack(group_users.embedding.values)\n",
    "\n",
    "    dist_matrix: np.array = cdist(group_users_embeddings, unwatched_films_embeddings, metric=\"cosine\")\n",
    "    closest_films: np.array = np.sum(dist_matrix, axis=0).argsort()[:10]\n",
    "\n",
    "    top_movies: np.array = unwatched_films.loc[closest_films, \"movieId\"].values\n",
    "\n",
    "    return top_movies"
   ]
  },
  {
   "cell_type": "code",
   "execution_count": null,
   "metadata": {
    "is_executing": true
   },
   "outputs": [],
   "source": [
    "recommends_group_sum: pd.DataFrame = generate_recommendations(\n",
    "    recommend_group_sum, unwatched_train_watched_test_movies, GROUPS_LIST\n",
    ")"
   ]
  },
  {
   "cell_type": "code",
   "execution_count": 13,
   "metadata": {
    "is_executing": true
   },
   "outputs": [
    {
     "data": {
      "text/html": [
       "<div>\n",
       "<style scoped>\n",
       "    .dataframe tbody tr th:only-of-type {\n",
       "        vertical-align: middle;\n",
       "    }\n",
       "\n",
       "    .dataframe tbody tr th {\n",
       "        vertical-align: top;\n",
       "    }\n",
       "\n",
       "    .dataframe thead th {\n",
       "        text-align: right;\n",
       "    }\n",
       "</style>\n",
       "<table border=\"1\" class=\"dataframe\">\n",
       "  <thead>\n",
       "    <tr style=\"text-align: right;\">\n",
       "      <th></th>\n",
       "      <th>MAP</th>\n",
       "      <th>NDCG</th>\n",
       "    </tr>\n",
       "  </thead>\n",
       "  <tbody>\n",
       "    <tr>\n",
       "      <th>group1</th>\n",
       "      <td>0.018087</td>\n",
       "      <td>0.152896</td>\n",
       "    </tr>\n",
       "    <tr>\n",
       "      <th>group2</th>\n",
       "      <td>0.014245</td>\n",
       "      <td>0.127674</td>\n",
       "    </tr>\n",
       "    <tr>\n",
       "      <th>group3</th>\n",
       "      <td>0.012681</td>\n",
       "      <td>0.115756</td>\n",
       "    </tr>\n",
       "    <tr>\n",
       "      <th>group4</th>\n",
       "      <td>0.011552</td>\n",
       "      <td>0.108302</td>\n",
       "    </tr>\n",
       "    <tr>\n",
       "      <th>group5</th>\n",
       "      <td>0.011827</td>\n",
       "      <td>0.109697</td>\n",
       "    </tr>\n",
       "    <tr>\n",
       "      <th>group6</th>\n",
       "      <td>0.011290</td>\n",
       "      <td>0.105105</td>\n",
       "    </tr>\n",
       "    <tr>\n",
       "      <th>group7</th>\n",
       "      <td>0.010617</td>\n",
       "      <td>0.099679</td>\n",
       "    </tr>\n",
       "  </tbody>\n",
       "</table>\n",
       "</div>"
      ],
      "text/plain": [
       "             MAP      NDCG\n",
       "group1  0.018087  0.152896\n",
       "group2  0.014245  0.127674\n",
       "group3  0.012681  0.115756\n",
       "group4  0.011552  0.108302\n",
       "group5  0.011827  0.109697\n",
       "group6  0.011290  0.105105\n",
       "group7  0.010617  0.099679"
      ]
     },
     "execution_count": 13,
     "metadata": {},
     "output_type": "execute_result"
    }
   ],
   "source": [
    "group_sum_results: pd.DataFrame = evaluate_recommendations(recommends_group_sum, GROUPS_LIST)\n",
    "group_sum_results  # pylint: disable=pointless-statement"
   ]
  },
  {
   "cell_type": "code",
   "execution_count": null,
   "metadata": {
    "is_executing": true
   },
   "outputs": [],
   "source": [
    "task.upload_artifact(\"avg_user_metrics\", average_user_results)\n",
    "task.upload_artifact(\"group_sum_metrics\", group_sum_results)"
   ]
  },
  {
   "cell_type": "code",
   "execution_count": 15,
   "metadata": {
    "is_executing": true
   },
   "outputs": [],
   "source": [
    "task.close()"
   ]
  }
 ],
 "metadata": {
  "kernelspec": {
   "display_name": ".venv",
   "language": "python",
   "name": "python3"
  },
  "language_info": {
   "codemirror_mode": {
    "name": "ipython",
    "version": 3
   },
   "file_extension": ".py",
   "mimetype": "text/x-python",
   "name": "python",
   "nbconvert_exporter": "python",
   "pygments_lexer": "ipython3",
   "version": "3.11.0"
  },
  "orig_nbformat": 4
 },
 "nbformat": 4,
 "nbformat_minor": 2
}
