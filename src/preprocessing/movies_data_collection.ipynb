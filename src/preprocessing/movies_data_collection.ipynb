{
 "cells": [
  {
   "cell_type": "code",
   "execution_count": 1,
   "metadata": {},
   "outputs": [],
   "source": [
    "import re\n",
    "from typing import Optional\n",
    "\n",
    "import pandas as pd\n",
    "import wikipedia\n",
    "from tqdm.notebook import tqdm\n",
    "\n",
    "tqdm.pandas()"
   ]
  },
  {
   "cell_type": "code",
   "execution_count": 2,
   "metadata": {},
   "outputs": [],
   "source": [
    "DATA_PATH = \"../data_raw/\""
   ]
  },
  {
   "cell_type": "code",
   "execution_count": 3,
   "metadata": {},
   "outputs": [],
   "source": [
    "movies_raw: pd.DataFrame = pd.read_parquet(DATA_PATH + \"movies.pq\")  # movies names and genres\n",
    "links_raw: pd.DataFrame = pd.read_parquet(DATA_PATH + \"links.pq\")  # ids from different datasets\n",
    "tmdb_data: pd.DataFrame = pd.read_parquet(DATA_PATH + \"tmdb_data.pq\")  # data about 5000 movies from TMDB"
   ]
  },
  {
   "attachments": {},
   "cell_type": "markdown",
   "metadata": {},
   "source": [
    "## Add TMDB data"
   ]
  },
  {
   "cell_type": "code",
   "execution_count": 4,
   "metadata": {},
   "outputs": [],
   "source": [
    "movies: pd.DataFrame = movies_raw.merge(links_raw, on=\"movieId\")[[\"movieId\", \"tmdbId\", \"title\", \"genres\"]]\n",
    "movies = movies.merge(tmdb_data, left_on=\"tmdbId\", right_on=\"movie_id\").drop(columns=\"movie_id\")"
   ]
  },
  {
   "cell_type": "code",
   "execution_count": 5,
   "metadata": {},
   "outputs": [],
   "source": [
    "# collect genres both from MovieLens and TMDB\n",
    "movies.loc[:, \"genres_x\"] = movies.genres_x.apply(lambda x: x.split(\"|\"))\n",
    "movies.loc[:, \"genres_y\"] = movies.genres_y.apply(list)\n",
    "movies[\"genres\"] = (movies.genres_x + movies.genres_y).apply(set).apply(list)\n",
    "movies.drop(columns=[\"genres_x\", \"genres_y\"], inplace=True)"
   ]
  },
  {
   "cell_type": "code",
   "execution_count": 6,
   "metadata": {},
   "outputs": [],
   "source": [
    "# remove useless genres\n",
    "\n",
    "def remove_no_genres(genres_list: list[str]) -> list[str]:\n",
    "    if (\"(no genres listed)\" in genres_list) and len(genres_list) > 1:\n",
    "        return [genre for genre in genres_list if genre != \"(no genres listed)\"]\n",
    "    return genres_list\n",
    "\n",
    "\n",
    "def remove_foreign(genres_list: list[str]) -> list[str]:\n",
    "    if \"Foreign\" in genres_list:\n",
    "        if len(genres_list) > 1:\n",
    "            return [genre for genre in genres_list if genre != \"Foreign\"]\n",
    "        return [\"(no genres listed)\"]\n",
    "    return genres_list\n",
    "\n",
    "\n",
    "movies.loc[:, \"genres\"] = movies.genres.apply(remove_no_genres).apply(remove_foreign)"
   ]
  },
  {
   "cell_type": "code",
   "execution_count": null,
   "metadata": {},
   "outputs": [],
   "source": [
    "# remove duplicating genres (with different names)\n",
    "\n",
    "def remove_duplicate_music(genres_list: list[str]) -> list[str]:\n",
    "    if \"Music\" in genres_list:\n",
    "        tmp = [genre for genre in genres_list if genre != \"Music\"]\n",
    "        if \"Musical\" in genres_list:\n",
    "            return tmp\n",
    "        return tmp + [\"Musical\"]\n",
    "    return genres_list\n",
    "\n",
    "\n",
    "def remove_duplicate_scifi(genres_list: list[str]) -> list[str]:\n",
    "    if \"Science Fiction\" in genres_list:\n",
    "        tmp = [genre for genre in genres_list if genre != \"Science Fiction\"]\n",
    "        if \"Sci-Fi\" in genres_list:\n",
    "            return tmp\n",
    "        return tmp + [\"Sci-Fi\"]\n",
    "    return genres_list\n",
    "\n",
    "\n",
    "movies.loc[:, \"genres\"] = movies.genres.apply(remove_duplicate_music).apply(remove_duplicate_scifi)"
   ]
  },
  {
   "attachments": {},
   "cell_type": "markdown",
   "metadata": {},
   "source": [
    "## Add movie plot from Wikipedia"
   ]
  },
  {
   "cell_type": "code",
   "execution_count": 35,
   "metadata": {},
   "outputs": [],
   "source": [
    "# functions from https://towardsdatascience.com/movielens-1m-deep-dive-part-i-8acfeda1ad4\n",
    "\n",
    "\n",
    "def get_wikipedia_page_name(movie_title: str) -> str:\n",
    "    matching_pages: list[str] = wikipedia.search(movie_title)\n",
    "    if len(matching_pages) == 0:\n",
    "        return \"\"\n",
    "    return matching_pages[0]\n",
    "\n",
    "\n",
    "def get_movie_plot(page_name: str) -> Optional[str]:\n",
    "    try:\n",
    "        try:\n",
    "            movie_page_content = str(wikipedia.page(page_name, auto_suggest=False).content)\n",
    "        except wikipedia.DisambiguationError as disamberror:\n",
    "            for option in disamberror.options:\n",
    "                if \"film\" in option:\n",
    "                    movie_page_content = str(wikipedia.page(option, auto_suggest=False).content)\n",
    "            return None\n",
    "    except (wikipedia.PageError, KeyError):\n",
    "        return None\n",
    "    re_groups = re.search(\"Plot ==(.*?)=+ [A-Z]\", str(movie_page_content).replace(\"\\n\", \"\"))\n",
    "    if re_groups:\n",
    "        return re_groups.group(1)\n",
    "    return None"
   ]
  },
  {
   "cell_type": "code",
   "execution_count": null,
   "metadata": {},
   "outputs": [],
   "source": [
    "movies[\"wikipedia_page_name\"] = movies[\"title_x\"].progress_apply(get_wikipedia_page_name)\n",
    "movies[\"movie_plot\"] = movies[\"wikipedia_page_name\"].progress_apply(get_movie_plot)\n",
    "print(f'There are {movies[\"movie_plot\"].isna().sum()} missing movie plots')"
   ]
  },
  {
   "cell_type": "code",
   "execution_count": null,
   "metadata": {},
   "outputs": [],
   "source": [
    "# add movie plots\n",
    "movies[\"wikipedia_page_name\"] = movies.progress_apply(\n",
    "    lambda row: get_wikipedia_page_name(row[\"title_y\"]) if not row[\"movie_plot\"] else row[\"wikipedia_page_name\"], axis=1\n",
    ")\n",
    "movies[\"movie_plot\"] = movies.progress_apply(\n",
    "    lambda row: get_movie_plot(row[\"wikipedia_page_name\"]) if not row[\"movie_plot\"] else row[\"movie_plot\"], axis=1\n",
    ")\n",
    "print(f'There are {movies[\"movie_plot\"].isna().sum()} missing movie plots')"
   ]
  },
  {
   "cell_type": "code",
   "execution_count": null,
   "metadata": {},
   "outputs": [],
   "source": [
    "# for some films plot was not found because wrong page was chosen\n",
    "#  in many cases the page with \"(film)\" was the needed one\n",
    "\n",
    "def get_new_wikipedia_page_name(movie_title: str) -> str:\n",
    "    matching_pages = wikipedia.search(movie_title)\n",
    "    if len(matching_pages) == 0:\n",
    "        return \"\"\n",
    "    for name in matching_pages:\n",
    "        if \"(film)\" in name:\n",
    "            return name  # type: ignore [no-any-return]\n",
    "    return matching_pages[0]  # type: ignore [no-any-return]\n",
    "\n",
    "\n",
    "movies[\"wikipedia_page_name\"] = movies.progress_apply(\n",
    "    lambda row: get_new_wikipedia_page_name(row[\"title_y\"]) if not row[\"movie_plot\"] else row[\"wikipedia_page_name\"],\n",
    "    axis=1,\n",
    ")\n",
    "movies[\"movie_plot\"] = movies.progress_apply(\n",
    "    lambda row: get_movie_plot(row[\"wikipedia_page_name\"]) if not row[\"movie_plot\"] else row[\"movie_plot\"], axis=1\n",
    ")\n",
    "print(f'There are {movies[\"movie_plot\"].isna().sum()} missing movie plots')"
   ]
  },
  {
   "cell_type": "code",
   "execution_count": null,
   "metadata": {},
   "outputs": [],
   "source": [
    "movies = movies.drop(columns=[\"title_x\", \"wikipedia_page_name\"]).rename(\n",
    "    columns={\n",
    "        \"title_y\": \"title\",\n",
    "        \"movieId\": \"movielens_id\",\n",
    "        \"tmdbId\": \"tmdb_id\",\n",
    "        \"popularity\": \"tmdb_popularity_score\",\n",
    "        \"vote_average\": \"tmdb_rating_avg\",\n",
    "        \"vote_count\": \"tmdb_votes_count\",\n",
    "    }\n",
    ")"
   ]
  },
  {
   "attachments": {},
   "cell_type": "markdown",
   "metadata": {},
   "source": [
    "## Save data"
   ]
  },
  {
   "cell_type": "code",
   "execution_count": 82,
   "metadata": {},
   "outputs": [],
   "source": [
    "movies.to_parquet(\"data/movies_data.pq\")"
   ]
  }
 ],
 "metadata": {
  "kernelspec": {
   "display_name": ".venv",
   "language": "python",
   "name": "python3"
  },
  "language_info": {
   "codemirror_mode": {
    "name": "ipython",
    "version": 3
   },
   "file_extension": ".py",
   "mimetype": "text/x-python",
   "name": "python",
   "nbconvert_exporter": "python",
   "pygments_lexer": "ipython3",
   "version": "3.11.0"
  },
  "orig_nbformat": 4
 },
 "nbformat": 4,
 "nbformat_minor": 2
}
